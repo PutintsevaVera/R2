{
 "cells": [
  {
   "cell_type": "code",
   "execution_count": 9,
   "metadata": {},
   "outputs": [
    {
     "name": "stdout",
     "output_type": "stream",
     "text": [
      "test\n",
      "es\n"
     ]
    }
   ],
   "source": [
    "s = input()\n",
    "if len(s) % 2 == 0:\n",
    "    print(s[(len(s) // 2-1)] + s[(len(s) // 2)])\n",
    "else: print(s[(len(s) // 2)])\n",
    "              "
   ]
  },
  {
   "cell_type": "code",
   "execution_count": 8,
   "metadata": {},
   "outputs": [
    {
     "name": "stdout",
     "output_type": "stream",
     "text": [
      "testing\n",
      "t\n"
     ]
    }
   ],
   "source": [
    "s = input()\n",
    "if len(s) % 2 == 0:\n",
    "    print(s[(len(s) // 2-1)] + s[(len(s) // 2)])\n",
    "else: print(s[(len(s) // 2)])"
   ]
  },
  {
   "cell_type": "code",
   "execution_count": 10,
   "metadata": {},
   "outputs": [
    {
     "name": "stdout",
     "output_type": "stream",
     "text": [
      "Введите число\n",
      "1\n",
      "Введите число\n",
      "4\n",
      "Введите число\n",
      "6\n",
      "Введите число\n",
      "0\n",
      "11\n"
     ]
    }
   ],
   "source": [
    "print ('Введите число')\n",
    "a = int (input())\n",
    "s = 0\n",
    "while a != 0:\n",
    "    s = s + a\n",
    "    print ('Введите число')\n",
    "    a = int (input())\n",
    "print (s)\n"
   ]
  },
  {
   "cell_type": "code",
   "execution_count": 57,
   "metadata": {},
   "outputs": [
    {
     "name": "stdout",
     "output_type": "stream",
     "text": [
      "Идеальные пары\n",
      "Alex и Emma\n",
      "Arthur и Kate\n",
      "John и Kira\n",
      "Peter и Liza\n",
      "Richard и Trisha\n"
     ]
    }
   ],
   "source": [
    "boys = ['Peter','Alex','John','Arthur','Richard']\n",
    "girls = ['Kate','Liza','Kira','Emma','Trisha']\n",
    "boys = (sorted (boys))\n",
    "girls = (sorted (girls))\n",
    "i=0\n",
    "if len(boys) == len(girls):\n",
    "    print ('Идеальные пары')\n",
    "    for names in boys:\n",
    "        print(names,'и', girls[i])         \n",
    "        i=i+1\n",
    "else: print ('Возможно, кто-то может остаться без пары!')\n",
    "    "
   ]
  },
  {
   "cell_type": "code",
   "execution_count": 58,
   "metadata": {},
   "outputs": [
    {
     "name": "stdout",
     "output_type": "stream",
     "text": [
      "Thailand - 23.9 C\n",
      "Germany - 13.8 C\n",
      "Russia - 3.7 C\n",
      "Poland - 12.0 C\n"
     ]
    }
   ],
   "source": [
    "countries_temperature = [\n",
    "['Thailand', [75.2, 77, 78.8, 73.4, 68, 75.2, 77]],\n",
    "['Germany', [57.2, 55.4, 59, 59, 53.6]],\n",
    "['Russia', [35.6, 37.4, 39.2, 41, 42.8, 39.2, 35.6]],\n",
    "['Poland', [50, 50, 53.6, 57.2, 55.4, 55.4]]\n",
    "]\n",
    "a=0\n",
    "for i in countries_temperature:\n",
    "    a=((sum(i[1]))/(len(i[1]))-32)/1.8\n",
    "    a= (round(a, 1))\n",
    "    print(i[0], '-', a ,'C')\n"
   ]
  }
 ],
 "metadata": {
  "kernelspec": {
   "display_name": "Python 3",
   "language": "python",
   "name": "python3"
  },
  "language_info": {
   "codemirror_mode": {
    "name": "ipython",
    "version": 3
   },
   "file_extension": ".py",
   "mimetype": "text/x-python",
   "name": "python",
   "nbconvert_exporter": "python",
   "pygments_lexer": "ipython3",
   "version": "3.8.3"
  }
 },
 "nbformat": 4,
 "nbformat_minor": 4
}
