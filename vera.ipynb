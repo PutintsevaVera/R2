{
 "cells": [
  {
   "cell_type": "code",
   "execution_count": 4,
   "metadata": {},
   "outputs": [
    {
     "name": "stdout",
     "output_type": "stream",
     "text": [
      "Фраза 1 длиннее фразы 2\n"
     ]
    }
   ],
   "source": [
    "phrase_1 = 'Насколько проще было бы писать программы, если бы не заказчики'\n",
    "phrase_2 = '640Кб должно хватить для любых задач. Билл Гейтс (по легенде)'\n",
    "\n",
    "if len (phrase_1) > len (phrase_2):\n",
    "    print ('Фраза 1 длиннее фразы 2')\n",
    "    "
   ]
  },
  {
   "cell_type": "code",
   "execution_count": 6,
   "metadata": {},
   "outputs": [
    {
     "name": "stdout",
     "output_type": "stream",
     "text": [
      "Фраза 2 длиннее фразы 1\n"
     ]
    }
   ],
   "source": [
    "phrase_1 = '640Кб должно хватить для любых задач. Билл Гейтс (по легенде)'\n",
    "phrase_2 = 'Насколько проще было бы писать программы, если бы не заказчики'\n",
    "\n",
    "if len (phrase_2) > len (phrase_1):\n",
    "    print ('Фраза 2 длиннее фразы 1')"
   ]
  },
  {
   "cell_type": "code",
   "execution_count": 8,
   "metadata": {},
   "outputs": [
    {
     "name": "stdout",
     "output_type": "stream",
     "text": [
      "Фразы равной длины\n"
     ]
    }
   ],
   "source": [
    "phrase_1 = 'Насколько проще было бы писать программы, если бы не заказчики'\n",
    "phrase_2 = 'Насколько проще было бы писать программы, если бы не заказчики'\n",
    "\n",
    "if len (phrase_2) == len (phrase_1):\n",
    "    print ('Фразы равной длины')"
   ]
  },
  {
   "cell_type": "code",
   "execution_count": 12,
   "metadata": {},
   "outputs": [
    {
     "name": "stdout",
     "output_type": "stream",
     "text": [
      "Високосный год\n",
      "Конец программы\n"
     ]
    }
   ],
   "source": [
    "year = 2020\n",
    "\n",
    "if year % 4 == 0:\n",
    "    print ('Високосный год')\n",
    "else:\n",
    "    print ('Обычный год')\n",
    "print ('Конец программы')\n"
   ]
  },
  {
   "cell_type": "code",
   "execution_count": 13,
   "metadata": {},
   "outputs": [
    {
     "name": "stdout",
     "output_type": "stream",
     "text": [
      "Обычный год\n",
      "Конец программы\n"
     ]
    }
   ],
   "source": [
    "year = 2019\n",
    "\n",
    "if year % 4 == 0:\n",
    "    print ('Високосный год')\n",
    "else:\n",
    "    print ('Обычный год')\n",
    "print ('Конец программы')\n"
   ]
  },
  {
   "cell_type": "code",
   "execution_count": 38,
   "metadata": {},
   "outputs": [
    {
     "name": "stdout",
     "output_type": "stream",
     "text": [
      "Введите день\n",
      "25\n",
      "Введите месяц\n",
      "3\n",
      "Знак зодиака: Овен\n"
     ]
    }
   ],
   "source": [
    "print ('Введите день')\n",
    "d = int (input())\n",
    "print ('Введите месяц')\n",
    "m = int (input())\n",
    "if (d >= 21 and d <= 31 and m == 3) or (month == 4 and date >= 1 and date <= 19):\n",
    "    print ('Знак зодиака: Овен')\n",
    "elif (d >= 20 and d <= 30 and m == 4) or (m == 5 and d >= 1 and d <= 20):\n",
    "    print ('Знак зодиака: Телец')\n",
    "elif (d >= 21 and d <= 31 and m == 5) or (m == 6 and d >= 1 and d <= 21):\n",
    "    print ('Знак зодиака: Близнецы')\n",
    "elif (d >= 22 and d <= 30 and m==6) or (m == 7 and d >= 1 and d <= 22):\n",
    "    print ('Знак зодиака: Рак')\n",
    "elif (d >= 23 and d <= 31 and m == 7) or (m == 8 and d >= 1 and d <= 22):\n",
    "    print ('Знак зодиака: Лев')\n",
    "elif (d >= 23 and d <= 31 and m == 8) or (m == 9 and d >= 1 and d <= 22):\n",
    "    print ('Знак зодиака: Дева')\n",
    "elif (d >= 23 and d <= 30 and m == 9) or (m == 10 and d >= 1 and d <= 23):\n",
    "    print ('Знак зодиака: Весы')\n",
    "elif (d >= 24 and d <= 31 and m == 10) or (m == 11 and d >= 1 and d <= 22):\n",
    "    print ('Знак зодиака: Скорпион')\n",
    "elif (d >= 23 and d <= 30 and m == 11) or (m == 12 and d >= 1 and d <= 21):\n",
    "    print ('Знак зодиака: Стрелец')\n",
    "elif (d >= 22 and d <= 31 and m == 12) or (m == 1 and d >= 1 and d <= 20):\n",
    "    print ('Знак зодиака: Козерог')\n",
    "elif (d >= 21 and d <= 31 and m == 1) or (m == 2 and d >= 1 and d <= 18):\n",
    "    print ('Знак зодиака: Водолей')\n",
    "elif (d >= 19 and d <= 29 and m == 2) or (m == 3 and d >= 1 and d <= 20):\n",
    "    print ('Знак зодиака: Рыбы')\n",
    "else:\n",
    "    print ('Конец программы')\n",
    "        "
   ]
  },
  {
   "cell_type": "code",
   "execution_count": 23,
   "metadata": {},
   "outputs": [
    {
     "name": "stdout",
     "output_type": "stream",
     "text": [
      "Упаковка для лыж\n"
     ]
    }
   ],
   "source": [
    "width = 10\n",
    "length = 205\n",
    "height = 5\n",
    "\n",
    "if width < 15 and length < 15 and height < 15:\n",
    "    print ('Коробка №1')\n",
    "elif 15 < width < 50 or 15 < length < 50 or 15 < height < 50:\n",
    "    print ('Коробка №2')\n",
    "elif length > 200:\n",
    "    print ('Упаковка для лыж')\n",
    "else:\n",
    "    print ('Стандартная коробка №3')\n"
   ]
  },
  {
   "cell_type": "code",
   "execution_count": null,
   "metadata": {},
   "outputs": [],
   "source": []
  }
 ],
 "metadata": {
  "kernelspec": {
   "display_name": "Python 3",
   "language": "python",
   "name": "python3"
  },
  "language_info": {
   "codemirror_mode": {
    "name": "ipython",
    "version": 3
   },
   "file_extension": ".py",
   "mimetype": "text/x-python",
   "name": "python",
   "nbconvert_exporter": "python",
   "pygments_lexer": "ipython3",
   "version": "3.8.3"
  }
 },
 "nbformat": 4,
 "nbformat_minor": 4
}
